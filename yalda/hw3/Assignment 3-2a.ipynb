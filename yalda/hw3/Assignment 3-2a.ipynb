{
 "cells": [
  {
   "cell_type": "code",
   "execution_count": 108,
   "id": "5bbd3b81",
   "metadata": {},
   "outputs": [],
   "source": [
    "import pandas as pd\n",
    "import numpy as np\n",
    "import matplotlib.pyplot as plt\n",
    "import seaborn as sns\n",
    "import random as ran\n",
    "import math "
   ]
  },
  {
   "cell_type": "code",
   "execution_count": 109,
   "id": "760635cb",
   "metadata": {},
   "outputs": [],
   "source": [
    "path = '/'"
   ]
  },
  {
   "cell_type": "code",
   "execution_count": 110,
   "id": "3c9d97b9",
   "metadata": {},
   "outputs": [],
   "source": [
    "## function to read input data\n",
    "def read_data(filname):\n",
    "    params = {}\n",
    "    with open(filname) as fil:\n",
    "        lines = fil.readlines()\n",
    "        for line in lines:\n",
    "            line= line.split(\"=\")\n",
    "            if  line[0].strip() == 'rho':\n",
    "                params[line[0].strip()] = [float(v) for v in line[1].split(\",\")]\n",
    "            else:\n",
    "                params[line[0].strip()] = float(line[1])\n",
    "            \n",
    "   \n",
    "    print(f\"Input parameters defined: {params}\")\n",
    "    return params"
   ]
  },
  {
   "cell_type": "code",
   "execution_count": 111,
   "id": "daf3e13a",
   "metadata": {},
   "outputs": [
    {
     "name": "stdout",
     "output_type": "stream",
     "text": [
      "Input parameters defined: {'sigma': 1.0, 'epsilon': 1.0, 'm': 1.0, 'N': 256.0, 'ovrlap': 0.8, 'rho': [0.25, 0.5, 0.75], 'dt': 0.001, 'Nsteps': 100.0, 'rcut': 3.0, 'T': 3.0}\n"
     ]
    },
    {
     "data": {
      "text/plain": [
       "{'sigma': 1.0,\n",
       " 'epsilon': 1.0,\n",
       " 'm': 1.0,\n",
       " 'N': 256.0,\n",
       " 'ovrlap': 0.8,\n",
       " 'rho': [0.25, 0.5, 0.75],\n",
       " 'dt': 0.001,\n",
       " 'Nsteps': 100.0,\n",
       " 'rcut': 3.0,\n",
       " 'T': 3.0}"
      ]
     },
     "execution_count": 111,
     "metadata": {},
     "output_type": "execute_result"
    }
   ],
   "source": [
    "read_data(\"params.a2.in\")"
   ]
  },
  {
   "cell_type": "code",
   "execution_count": 112,
   "id": "3b4d8d65",
   "metadata": {},
   "outputs": [],
   "source": [
    "## function to define an initial configuration of particles\n",
    "def initial_config():\n",
    "    rx, ry, rz = np.zeros(N), np.zeros(N), np.zeros(N)\n",
    "    Vx, Vy, Vz = np.zeros(N), np.zeros(N), np.zeros(N)\n",
    "    rx[0] = ran.random()*Lx\n",
    "    ry[0] = ran.random()*Ly\n",
    "    rz[0] = ran.random()*Lz\n",
    "    for i in range(1,N):\n",
    "        flag = 1\n",
    "        while (flag == 1):\n",
    "            flag = 0\n",
    "            rx[i] = ran.random()*Lx\n",
    "            ry[i] = ran.random()*Ly\n",
    "            rz[i] = ran.random()*Lz\n",
    "            for j in range(i):\n",
    "                rxd = rx[j] - rx[i]\n",
    "                ryd = ry[j] - ry[i]\n",
    "                rzd = rz[j] - rz[i]\n",
    "                rxd = rxd - np.round(rxd/Lx)*Lx  ## minimum image \n",
    "                ryd = ryd - np.round(ryd/Ly)*Ly\n",
    "                rzd = rzd - np.round(rzd/Lz)*Lz\n",
    "                dsq = rxd*rxd + ryd*ryd + rzd*rzd\n",
    "                if dsq < ovrlap: \n",
    "                    flag = 1\n",
    "# find the mininum distance once all the particles are inserted.. using nested for loops\n",
    "    dmin = Lx*Lx\n",
    "    for i in range(N-1):\n",
    "        for j in range(i+1,N):\n",
    "            rxd = rx[j] - rx[i]\n",
    "            ryd = ry[j] - ry[i]\n",
    "            rzd = rz[j] - rz[i]\n",
    "            rxd = rxd - np.round(rxd/Lx)*Lx  ## minimum image \n",
    "            ryd = ryd - np.round(ryd/Ly)*Ly\n",
    "            rzd = rzd - np.round(rzd/Lz)*Lz\n",
    "            dsq = rxd*rxd + ryd*ryd + rzd*rzd\n",
    "            dmin = min(dmin, dsq)\n",
    "    dmin = dmin**0.5\n",
    "    if (dmin < ovrlap): \n",
    "        print(f'Particles overlap, min distance = {np.round(dmin, decimals = 3)}')\n",
    "    else:\n",
    "        print(f'Particles do not overlap, min distance = {np.round(dmin, decimals = 3)}')\n",
    "    return rx, ry, rz, Vx, Vy, Vz        \n",
    "        "
   ]
  },
  {
   "cell_type": "code",
   "execution_count": 113,
   "id": "d4ca7320",
   "metadata": {},
   "outputs": [],
   "source": [
    "## initialize variables\n",
    "def initialize_parameters(params):\n",
    "    sig = params['sigma']\n",
    "    eps = params['epsilon']\n",
    "    m = params['m']\n",
    "    N = int(params['N'])\n",
    "    ovrlap = params['ovrlap']**2\n",
    "    rho_ar = params['rho']\n",
    "    dt = params['dt']\n",
    "    Nsteps = np.int64(params['Nsteps'])\n",
    "    rcutsq = params['rcut']*sig\n",
    "    rcutsq = rcutsq*rcutsq\n",
    "    sig6 = sig*sig*sig\n",
    "    sig6 = sig6*sig6\n",
    "    sig12 = sig6*sig6\n",
    "    T = params['T']\n",
    "    rho_ar = np.array(rho_ar)\n",
    "    vol_ar = N/rho_ar\n",
    "    print(\"vol_ar=\", vol_ar)\n",
    "    Lx_ar = np.cbrt(vol_ar)\n",
    "    Ly_ar = np.cbrt(vol_ar)\n",
    "    Lz_ar = np.cbrt(vol_ar)\n",
    "    print(f'Number of particles are {N}')\n",
    "    return sig, eps, m, ovrlap, rho_ar, dt, Nsteps, rcutsq, N, sig6, sig12, T, vol_ar, Lx_ar, Ly_ar, Lz_ar"
   ]
  },
  {
   "cell_type": "code",
   "execution_count": 114,
   "id": "049f3bca",
   "metadata": {},
   "outputs": [],
   "source": [
    "### force calculation\n",
    "def force():\n",
    "    Fx, Fy, Fz = np.zeros(N), np.zeros(N), np.zeros(N)\n",
    "    U = 0\n",
    "    virial = 0\n",
    "    for i in range(N-1):\n",
    "        for j in range(i+1,N):\n",
    "            rxd = rx[i] - rx[j]\n",
    "            ryd = ry[i] - ry[j]\n",
    "            rzd = rz[i] - rz[j]\n",
    "            rxd = rxd - np.round(rxd/Lx)*Lx\n",
    "            ryd = ryd - np.round(ryd/Ly)*Ly\n",
    "            rzd = rzd - np.round(rzd/Lz)*Lz\n",
    "            dsq = rxd*rxd + ryd*ryd + rzd*rzd\n",
    "            if (dsq < rcutsq):\n",
    "                U = U + sig12/(dsq**6)-sig6/(dsq**3)\n",
    "                f = 1/dsq*(2*sig12/(dsq**6)-sig6/(dsq**3))\n",
    "                f2=(24*eps)*f*dsq\n",
    "                virial+=f2\n",
    "                fx = f*rxd\n",
    "                fy = f*ryd\n",
    "                fz = f*rzd\n",
    "                Fx[i] = Fx[i] + fx\n",
    "                Fy[i] = Fy[i] + fy\n",
    "                Fz[i] = Fz[i] + fz\n",
    "                Fx[j] = Fx[j] - fx  ## Newton's 3rd law\n",
    "                Fy[j] = Fy[j] - fy\n",
    "                Fz[j] = Fz[j] - fz\n",
    "                ##virial = virial + (Fx[i]*Fx[i]+Fy[i]*Fy[i]+Fz[i]*Fz[i])*dsq    #???Virial F[j]\n",
    "                \n",
    "    ax, ay, az = 24*eps*Fx/m, 24*eps*Fy/m, 24*eps*Fz/m\n",
    "    U = 4*eps*U\n",
    "    return ax, ay, az, U, virial "
   ]
  },
  {
   "cell_type": "code",
   "execution_count": 115,
   "id": "ef7895e3",
   "metadata": {},
   "outputs": [],
   "source": [
    "def verlet(Vx, Vy, Vz, landa):\n",
    "    Vx = Vx + 0.5*dt*ax\n",
    "    Vy = Vy + 0.5*dt*ay\n",
    "    Vz = Vz + 0.5*dt*az\n",
    "    Vx = Vx *landa \n",
    "    Vy = Vy *landa \n",
    "    Vz = Vz *landa \n",
    "    return Vx, Vy, Vz\n",
    "    "
   ]
  },
  {
   "cell_type": "code",
   "execution_count": 116,
   "id": "ef23d221",
   "metadata": {},
   "outputs": [],
   "source": [
    "def position_integration(rx, ry, rz):\n",
    "    rx = rx + dt*Vx + 0.5*dt*dt*ax\n",
    "    ry = ry + dt*Vy + 0.5*dt*dt*ay\n",
    "    rz = rz + dt*Vz + 0.5*dt*dt*az\n",
    "    return rx, ry, rz"
   ]
  },
  {
   "cell_type": "code",
   "execution_count": 117,
   "id": "a2f5b11c",
   "metadata": {},
   "outputs": [],
   "source": [
    "### this function is only to check the calculations independently. It is not needed for the MD code. \n",
    "def energy():\n",
    "    U = 0\n",
    "    KE = 0\n",
    "    Fx, Fy, Fz = np.zeros(N), np.zeros(N), np.zeros(N)\n",
    "    for i in range(N-1):\n",
    "        for j in range(i+1, N):\n",
    "            rxd = rx[i] - rx[j]\n",
    "            ryd = ry[i] - ry[j]\n",
    "            rzd = rz[i] - rz[j]\n",
    "            rxd = rxd - np.round(rxd/Lx)*Lx\n",
    "            ryd = ryd - np.round(ryd/Ly)*Ly\n",
    "            rzd = rzd - np.round(rzd/Lz)*Lz\n",
    "            dsq = rxd*rxd + ryd*ryd + rzd*rzd\n",
    "            if (dsq < rcutsq):\n",
    "                U = U + sig12/(dsq**6) - sig6/(dsq**3)\n",
    "                f = 1/dsq*(2*sig12/(dsq**6) - sig6/(dsq**3))\n",
    "                Fx[i] = Fx[i] + f*rxd\n",
    "                Fy[i] = Fy[i] + f*ryd\n",
    "                Fz[i] = Fz[i] + f*rzd\n",
    "                Fx[j] = Fx[j] - f*rxd\n",
    "                Fy[j] = Fy[j] - f*ryd\n",
    "                Fz[j] = Fz[j] - f*rzd\n",
    "        KE = KE + Vx[i]*Vx[i]+Vy[i]*Vy[i]+Vz[i]*Vz[i]\n",
    "    KE = KE + Vx[N-1]*Vx[N-1]+Vy[N-1]*Vy[N-1]+Vz[N-1]*Vz[N-1]\n",
    "    U = 4*eps*U\n",
    "    KE = KE*m*0.5\n",
    "    Fx, Fy, Fz = 24*eps*Fx, 24*eps*Fy, 24*eps*Fz\n",
    "    return Fx, Fy, Fz, U, KE"
   ]
  },
  {
   "cell_type": "code",
   "execution_count": 118,
   "id": "78c3ac55",
   "metadata": {},
   "outputs": [],
   "source": [
    "def calc_Press():\n",
    "    #### generate initial configuration \n",
    "    KE = np.zeros(Nsteps)\n",
    "    PE = np.zeros(Nsteps)\n",
    "    TE = np.zeros(Nsteps)\n",
    "    Tinst = np.zeros(Nsteps)\n",
    "    Press = np.zeros(Nsteps)\n",
    "\n",
    "    rx, ry, rz, Vx, Vy, Vz = initial_config()\n",
    "    ax, ay, az, U, virial = force()\n",
    "    ke = np.sum(Vx*Vx+Vy*Vy+Vz*Vz)*0.5*m\n",
    "    KE[0] = ke\n",
    "    PE[0] = U\n",
    "    TE[0] = ke + U\n",
    "    Tinst[0] = (2 * KE[0]) / (3 * (N-1) * Kb)\n",
    "    Press[0] = (N*Kb*Tinst[0]/vol) + ((1/3*vol)* virial)   \n",
    "    landa = 1\n",
    "   \n",
    "    for i in range(1, Nsteps):\n",
    "        print (f\"Progress:  {((i/Nsteps)*100):4.1f}%\", end = '\\r')\n",
    "        rx, ry, rz = position_integration(rx, ry, rz)\n",
    "        Vx, Vy, Vz = verlet(Vx, Vy, Vz, landa)\n",
    "        ax, ay, az, U, virial = force()\n",
    "        Vx, Vy, Vz = verlet(Vx, Vy, Vz, landa)\n",
    "        KE[i] = np.sum(Vx*Vx+Vy*Vy+Vz*Vz)*0.5*m\n",
    "        PE[i] = U\n",
    "        TE[i] = KE[i] + PE[i]\n",
    "        Tinst[i] = (2 * KE[i]) / (3 * (N-1) * Kb)\n",
    "        Press[i] = (N*Kb*Tinst[i]/vol) + ((1/(3*vol))* virial)\n",
    "        landa = 1 + ((delt/tau)*((T/Tinst[i])-1))\n",
    "\n",
    "    return (np.average(Press))"
   ]
  },
  {
   "cell_type": "code",
   "execution_count": 119,
   "id": "10f28016",
   "metadata": {},
   "outputs": [
    {
     "name": "stdout",
     "output_type": "stream",
     "text": [
      "Input parameters defined: {'sigma': 1.0, 'epsilon': 1.0, 'm': 1.0, 'N': 256.0, 'ovrlap': 0.8, 'rho': [0.25, 0.5, 0.75], 'dt': 0.001, 'Nsteps': 100.0, 'rcut': 3.0, 'T': 3.0}\n",
      "vol_ar= [1024.          512.          341.33333333]\n",
      "Number of particles are 256\n",
      "Particles do not overlap, min distance = 0.802\n",
      "Progress:   1.0%\r"
     ]
    },
    {
     "ename": "TypeError",
     "evalue": "unsupported operand type(s) for *: 'float' and 'AxesSubplot'",
     "output_type": "error",
     "traceback": [
      "\u001B[1;31m---------------------------------------------------------------------------\u001B[0m",
      "\u001B[1;31mTypeError\u001B[0m                                 Traceback (most recent call last)",
      "\u001B[1;32m~\\AppData\\Local\\Temp\\ipykernel_4820\\1450142173.py\u001B[0m in \u001B[0;36m<module>\u001B[1;34m\u001B[0m\n\u001B[0;32m     17\u001B[0m     \u001B[0mLy\u001B[0m \u001B[1;33m=\u001B[0m \u001B[0mfloat\u001B[0m\u001B[1;33m(\u001B[0m\u001B[0mLy_ar\u001B[0m\u001B[1;33m[\u001B[0m\u001B[0mi\u001B[0m\u001B[1;33m]\u001B[0m\u001B[1;33m)\u001B[0m\u001B[1;33m\u001B[0m\u001B[1;33m\u001B[0m\u001B[0m\n\u001B[0;32m     18\u001B[0m     \u001B[0mLz\u001B[0m \u001B[1;33m=\u001B[0m \u001B[0mfloat\u001B[0m\u001B[1;33m(\u001B[0m\u001B[0mLz_ar\u001B[0m\u001B[1;33m[\u001B[0m\u001B[0mi\u001B[0m\u001B[1;33m]\u001B[0m\u001B[1;33m)\u001B[0m\u001B[1;33m\u001B[0m\u001B[1;33m\u001B[0m\u001B[0m\n\u001B[1;32m---> 19\u001B[1;33m     \u001B[0mavg_press\u001B[0m\u001B[1;33m[\u001B[0m\u001B[0mi\u001B[0m\u001B[1;33m]\u001B[0m \u001B[1;33m=\u001B[0m \u001B[0mcalc_Press\u001B[0m\u001B[1;33m(\u001B[0m\u001B[1;33m)\u001B[0m\u001B[1;33m\u001B[0m\u001B[1;33m\u001B[0m\u001B[0m\n\u001B[0m\u001B[0;32m     20\u001B[0m \u001B[0mprint\u001B[0m \u001B[1;33m(\u001B[0m\u001B[1;34m\"avg_press=\"\u001B[0m\u001B[1;33m,\u001B[0m \u001B[0mavg_press\u001B[0m\u001B[1;33m)\u001B[0m\u001B[1;33m\u001B[0m\u001B[1;33m\u001B[0m\u001B[0m\n",
      "\u001B[1;32m~\\AppData\\Local\\Temp\\ipykernel_4820\\3156293185.py\u001B[0m in \u001B[0;36mcalc_Press\u001B[1;34m()\u001B[0m\n\u001B[0;32m     19\u001B[0m     \u001B[1;32mfor\u001B[0m \u001B[0mi\u001B[0m \u001B[1;32min\u001B[0m \u001B[0mrange\u001B[0m\u001B[1;33m(\u001B[0m\u001B[1;36m1\u001B[0m\u001B[1;33m,\u001B[0m \u001B[0mNsteps\u001B[0m\u001B[1;33m)\u001B[0m\u001B[1;33m:\u001B[0m\u001B[1;33m\u001B[0m\u001B[1;33m\u001B[0m\u001B[0m\n\u001B[0;32m     20\u001B[0m         \u001B[0mprint\u001B[0m \u001B[1;33m(\u001B[0m\u001B[1;34mf\"Progress:  {((i/Nsteps)*100):4.1f}%\"\u001B[0m\u001B[1;33m,\u001B[0m \u001B[0mend\u001B[0m \u001B[1;33m=\u001B[0m \u001B[1;34m'\\r'\u001B[0m\u001B[1;33m)\u001B[0m\u001B[1;33m\u001B[0m\u001B[1;33m\u001B[0m\u001B[0m\n\u001B[1;32m---> 21\u001B[1;33m         \u001B[0mrx\u001B[0m\u001B[1;33m,\u001B[0m \u001B[0mry\u001B[0m\u001B[1;33m,\u001B[0m \u001B[0mrz\u001B[0m \u001B[1;33m=\u001B[0m \u001B[0mposition_integration\u001B[0m\u001B[1;33m(\u001B[0m\u001B[0mrx\u001B[0m\u001B[1;33m,\u001B[0m \u001B[0mry\u001B[0m\u001B[1;33m,\u001B[0m \u001B[0mrz\u001B[0m\u001B[1;33m)\u001B[0m\u001B[1;33m\u001B[0m\u001B[1;33m\u001B[0m\u001B[0m\n\u001B[0m\u001B[0;32m     22\u001B[0m         \u001B[0mVx\u001B[0m\u001B[1;33m,\u001B[0m \u001B[0mVy\u001B[0m\u001B[1;33m,\u001B[0m \u001B[0mVz\u001B[0m \u001B[1;33m=\u001B[0m \u001B[0mverlet\u001B[0m\u001B[1;33m(\u001B[0m\u001B[0mVx\u001B[0m\u001B[1;33m,\u001B[0m \u001B[0mVy\u001B[0m\u001B[1;33m,\u001B[0m \u001B[0mVz\u001B[0m\u001B[1;33m,\u001B[0m \u001B[0mlanda\u001B[0m\u001B[1;33m)\u001B[0m\u001B[1;33m\u001B[0m\u001B[1;33m\u001B[0m\u001B[0m\n\u001B[0;32m     23\u001B[0m         \u001B[0max\u001B[0m\u001B[1;33m,\u001B[0m \u001B[0may\u001B[0m\u001B[1;33m,\u001B[0m \u001B[0maz\u001B[0m\u001B[1;33m,\u001B[0m \u001B[0mU\u001B[0m\u001B[1;33m,\u001B[0m \u001B[0mvirial\u001B[0m \u001B[1;33m=\u001B[0m \u001B[0mforce\u001B[0m\u001B[1;33m(\u001B[0m\u001B[1;33m)\u001B[0m\u001B[1;33m\u001B[0m\u001B[1;33m\u001B[0m\u001B[0m\n",
      "\u001B[1;32m~\\AppData\\Local\\Temp\\ipykernel_4820\\2853157225.py\u001B[0m in \u001B[0;36mposition_integration\u001B[1;34m(rx, ry, rz)\u001B[0m\n\u001B[0;32m      1\u001B[0m \u001B[1;32mdef\u001B[0m \u001B[0mposition_integration\u001B[0m\u001B[1;33m(\u001B[0m\u001B[0mrx\u001B[0m\u001B[1;33m,\u001B[0m \u001B[0mry\u001B[0m\u001B[1;33m,\u001B[0m \u001B[0mrz\u001B[0m\u001B[1;33m)\u001B[0m\u001B[1;33m:\u001B[0m\u001B[1;33m\u001B[0m\u001B[1;33m\u001B[0m\u001B[0m\n\u001B[1;32m----> 2\u001B[1;33m     \u001B[0mrx\u001B[0m \u001B[1;33m=\u001B[0m \u001B[0mrx\u001B[0m \u001B[1;33m+\u001B[0m \u001B[0mdt\u001B[0m\u001B[1;33m*\u001B[0m\u001B[0mVx\u001B[0m \u001B[1;33m+\u001B[0m \u001B[1;36m0.5\u001B[0m\u001B[1;33m*\u001B[0m\u001B[0mdt\u001B[0m\u001B[1;33m*\u001B[0m\u001B[0mdt\u001B[0m\u001B[1;33m*\u001B[0m\u001B[0max\u001B[0m\u001B[1;33m\u001B[0m\u001B[1;33m\u001B[0m\u001B[0m\n\u001B[0m\u001B[0;32m      3\u001B[0m     \u001B[0mry\u001B[0m \u001B[1;33m=\u001B[0m \u001B[0mry\u001B[0m \u001B[1;33m+\u001B[0m \u001B[0mdt\u001B[0m\u001B[1;33m*\u001B[0m\u001B[0mVy\u001B[0m \u001B[1;33m+\u001B[0m \u001B[1;36m0.5\u001B[0m\u001B[1;33m*\u001B[0m\u001B[0mdt\u001B[0m\u001B[1;33m*\u001B[0m\u001B[0mdt\u001B[0m\u001B[1;33m*\u001B[0m\u001B[0may\u001B[0m\u001B[1;33m\u001B[0m\u001B[1;33m\u001B[0m\u001B[0m\n\u001B[0;32m      4\u001B[0m     \u001B[0mrz\u001B[0m \u001B[1;33m=\u001B[0m \u001B[0mrz\u001B[0m \u001B[1;33m+\u001B[0m \u001B[0mdt\u001B[0m\u001B[1;33m*\u001B[0m\u001B[0mVz\u001B[0m \u001B[1;33m+\u001B[0m \u001B[1;36m0.5\u001B[0m\u001B[1;33m*\u001B[0m\u001B[0mdt\u001B[0m\u001B[1;33m*\u001B[0m\u001B[0mdt\u001B[0m\u001B[1;33m*\u001B[0m\u001B[0maz\u001B[0m\u001B[1;33m\u001B[0m\u001B[1;33m\u001B[0m\u001B[0m\n\u001B[0;32m      5\u001B[0m     \u001B[1;32mreturn\u001B[0m \u001B[0mrx\u001B[0m\u001B[1;33m,\u001B[0m \u001B[0mry\u001B[0m\u001B[1;33m,\u001B[0m \u001B[0mrz\u001B[0m\u001B[1;33m\u001B[0m\u001B[1;33m\u001B[0m\u001B[0m\n",
      "\u001B[1;31mTypeError\u001B[0m: unsupported operand type(s) for *: 'float' and 'AxesSubplot'"
     ]
    }
   ],
   "source": [
    "### MD runs ### \n",
    "### read input file ###\n",
    "Kb = 1.380649 * (10**(-23))\n",
    "delt = 10**(-15)\n",
    "tau = 10**(-12)\n",
    "inputfil = 'params.a2.in'\n",
    "params = read_data(inputfil)  \n",
    "##### Initialize parameters \n",
    "sig, eps, m, ovrlap, rho_ar, dt, Nsteps, rcutsq, N, sig6, sig12, T, vol_ar, Lx_ar, Ly_ar, Lz_ar = initialize_parameters(params)\n",
    "\n",
    "avg_press = np.zeros(len(rho_ar))\n",
    "\n",
    "for i in range(len(rho_ar)):\n",
    "    rho = float(rho_ar[i])\n",
    "    vol = float(vol_ar[i])\n",
    "    Lx = float(Lx_ar[i]) \n",
    "    Ly = float(Ly_ar[i])\n",
    "    Lz = float(Lz_ar[i])\n",
    "    avg_press[i] = calc_Press()\n",
    "print (\"avg_press=\", avg_press)    "
   ]
  },
  {
   "cell_type": "code",
   "execution_count": null,
   "id": "63184215",
   "metadata": {},
   "outputs": [],
   "source": []
  }
 ],
 "metadata": {
  "kernelspec": {
   "display_name": "Python 3 (ipykernel)",
   "language": "python",
   "name": "python3"
  },
  "language_info": {
   "codemirror_mode": {
    "name": "ipython",
    "version": 3
   },
   "file_extension": ".py",
   "mimetype": "text/x-python",
   "name": "python",
   "nbconvert_exporter": "python",
   "pygments_lexer": "ipython3",
   "version": "3.9.13"
  }
 },
 "nbformat": 4,
 "nbformat_minor": 5
}