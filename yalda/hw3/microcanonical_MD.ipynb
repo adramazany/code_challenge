{
 "cells": [
  {
   "cell_type": "code",
   "execution_count": 1,
   "id": "5bbd3b81",
   "metadata": {},
   "outputs": [],
   "source": [
    "import pandas as pd\n",
    "import numpy as np\n",
    "import matplotlib.pyplot as plt\n",
    "import seaborn as sns\n",
    "import random as ran"
   ]
  },
  {
   "cell_type": "code",
   "execution_count": 2,
   "id": "760635cb",
   "metadata": {},
   "outputs": [],
   "source": [
    "path = 'C:/Users/sharmas/OneDrive - Ohio University/Teaching/CHE7120/Fall2022/Homeworks/HW2/'"
   ]
  },
  {
   "cell_type": "code",
   "execution_count": 3,
   "id": "3c9d97b9",
   "metadata": {},
   "outputs": [],
   "source": [
    "## function to read input data\n",
    "def read_data(filname):\n",
    "    params = {}\n",
    "    with open(filname) as fil:\n",
    "        lines = fil.readlines()\n",
    "        for line in lines:\n",
    "            line= line.split(\"=\")\n",
    "            params[line[0].strip()] = float(line[1])\n",
    "   \n",
    "    print(f\"Input parameters defined: {params}\")\n",
    "    return params"
   ]
  },
  {
   "cell_type": "code",
   "execution_count": 4,
   "id": "3b4d8d65",
   "metadata": {},
   "outputs": [],
   "source": [
    "## function to define an initial configuration of particles\n",
    "def initial_config():\n",
    "    rx, ry, rz = np.zeros(N), np.zeros(N), np.zeros(N)\n",
    "    Vx, Vy, Vz = np.zeros(N), np.zeros(N), np.zeros(N)\n",
    "    rx[0] = ran.random()*Lx\n",
    "    ry[0] = ran.random()*Ly\n",
    "    rz[0] = ran.random()*Lz\n",
    "    for i in range(1,N):\n",
    "        flag = 1\n",
    "        while (flag == 1):\n",
    "            flag = 0\n",
    "            rx[i] = ran.random()*Lx\n",
    "            ry[i] = ran.random()*Ly\n",
    "            rz[i] = ran.random()*Lz\n",
    "            for j in range(i):\n",
    "                rxd = rx[j] - rx[i]\n",
    "                ryd = ry[j] - ry[i]\n",
    "                rzd = rz[j] - rz[i]\n",
    "                rxd = rxd - np.round(rxd/Lx)*Lx  ## minimum image \n",
    "                ryd = ryd - np.round(ryd/Ly)*Ly\n",
    "                rzd = rzd - np.round(rzd/Lz)*Lz\n",
    "                dsq = rxd*rxd + ryd*ryd + rzd*rzd\n",
    "                if dsq < ovrlap: \n",
    "                    flag = 1\n",
    "# find the mininum distance once all the particles are inserted.. using nested for loops\n",
    "    dmin = Lx*Lx\n",
    "    for i in range(N-1):\n",
    "        for j in range(i+1,N):\n",
    "            rxd = rx[j] - rx[i]\n",
    "            ryd = ry[j] - ry[i]\n",
    "            rzd = rz[j] - rz[i]\n",
    "            rxd = rxd - np.round(rxd/Lx)*Lx  ## minimum image \n",
    "            ryd = ryd - np.round(ryd/Ly)*Ly\n",
    "            rzd = rzd - np.round(rzd/Lz)*Lz\n",
    "            dsq = rxd*rxd + ryd*ryd + rzd*rzd\n",
    "            dmin = min(dmin, dsq)\n",
    "    dmin = dmin**0.5\n",
    "    if (dmin < ovrlap): \n",
    "        print(f'Particles overlap, min distance = {np.round(dmin, decimals = 3)}')\n",
    "    else:\n",
    "        print(f'Particles do not overlap, min distance = {np.round(dmin, decimals = 3)}')\n",
    "    return rx, ry, rz, Vx, Vy, Vz        \n",
    "        "
   ]
  },
  {
   "cell_type": "code",
   "execution_count": 5,
   "id": "d4ca7320",
   "metadata": {},
   "outputs": [],
   "source": [
    "## initialize variables\n",
    "def initialize_parameters(params):\n",
    "    sig = params['sigma']\n",
    "    eps = params['epsilon']\n",
    "    m = params['m']\n",
    "    Lx = params['Lx']\n",
    "    Ly = params['Ly']\n",
    "    Lz = params['Lz']\n",
    "    ovrlap = params['ovrlap']**2\n",
    "    rho = params['rho']\n",
    "    dt = params['dt']\n",
    "    Nsteps = np.int64(params['Nsteps'])\n",
    "    rcutsq = params['rcut']*sig\n",
    "    rcutsq = rcutsq*rcutsq\n",
    "    N = np.int64(rho*Lx*Ly*Lz)\n",
    "    sig6 = sig*sig*sig\n",
    "    sig6 = sig6*sig6\n",
    "    sig12 = sig6*sig6\n",
    "    print(f'Number of particles are {N}')\n",
    "    return sig, eps, m, Lx, Ly, Lz, ovrlap, rho, dt, Nsteps, rcutsq, N, sig6, sig12"
   ]
  },
  {
   "cell_type": "code",
   "execution_count": 6,
   "id": "049f3bca",
   "metadata": {},
   "outputs": [],
   "source": [
    "### force calculation\n",
    "def force():\n",
    "    Fx, Fy, Fz = np.zeros(N), np.zeros(N), np.zeros(N)\n",
    "    U = 0\n",
    "    for i in range(N-1):\n",
    "        for j in range(i+1,N):\n",
    "            rxd = rx[i] - rx[j]\n",
    "            ryd = ry[i] - ry[j]\n",
    "            rzd = rz[i] - rz[j]\n",
    "            rxd = rxd - np.round(rxd/Lx)*Lx\n",
    "            ryd = ryd - np.round(ryd/Ly)*Ly\n",
    "            rzd = rzd - np.round(rzd/Lz)*Lz\n",
    "            dsq = rxd*rxd + ryd*ryd + rzd*rzd\n",
    "            if (dsq < rcutsq):\n",
    "                U = U + sig12/(dsq**6)-sig6/(dsq**3)\n",
    "                f = 1/dsq*(2*sig12/(dsq**6)-sig6/(dsq**3))\n",
    "                fx = f*rxd\n",
    "                fy = f*ryd\n",
    "                fz = f*rzd\n",
    "                Fx[i] = Fx[i] + fx\n",
    "                Fy[i] = Fy[i] + fy\n",
    "                Fz[i] = Fz[i] + fz\n",
    "                Fx[j] = Fx[j] - fx  ## Newton's 3rd law\n",
    "                Fy[j] = Fy[j] - fy\n",
    "                Fz[j] = Fz[j] - fz\n",
    "    ax, ay, az = 24*eps*Fx/m, 24*eps*Fy/m, 24*eps*Fz/m\n",
    "    U = 4*eps*U\n",
    "    return ax, ay, az, U"
   ]
  },
  {
   "cell_type": "code",
   "execution_count": 7,
   "id": "ef7895e3",
   "metadata": {},
   "outputs": [],
   "source": [
    "def verlet(Vx, Vy, Vz):\n",
    "    Vx = Vx + 0.5*dt*ax\n",
    "    Vy = Vy + 0.5*dt*ay\n",
    "    Vz = Vz + 0.5*dt*az\n",
    "    return Vx, Vy, Vz\n",
    "    "
   ]
  },
  {
   "cell_type": "code",
   "execution_count": 8,
   "id": "ef23d221",
   "metadata": {},
   "outputs": [],
   "source": [
    "def position_integration(rx, ry, rz):\n",
    "    rx = rx + dt*Vx + 0.5*dt*dt*ax\n",
    "    ry = ry + dt*Vy + 0.5*dt*dt*ay\n",
    "    rz = rz + dt*Vz + 0.5*dt*dt*az\n",
    "    return rx, ry, rz"
   ]
  },
  {
   "cell_type": "code",
   "execution_count": 9,
   "id": "a2f5b11c",
   "metadata": {},
   "outputs": [],
   "source": [
    "### this function is only to check the calculations independently. It is not needed for the MD code. \n",
    "def energy():\n",
    "    U = 0\n",
    "    KE = 0\n",
    "    Fx, Fy, Fz = np.zeros(N), np.zeros(N), np.zeros(N)\n",
    "    for i in range(N-1):\n",
    "        for j in range(i+1, N):\n",
    "            rxd = rx[i] - rx[j]\n",
    "            ryd = ry[i] - ry[j]\n",
    "            rzd = rz[i] - rz[j]\n",
    "            rxd = rxd - np.round(rxd/Lx)*Lx\n",
    "            ryd = ryd - np.round(ryd/Ly)*Ly\n",
    "            rzd = rzd - np.round(rzd/Lz)*Lz\n",
    "            dsq = rxd*rxd + ryd*ryd + rzd*rzd\n",
    "            if (dsq < rcutsq):\n",
    "                U = U + sig12/(dsq**6) - sig6/(dsq**3)\n",
    "                f = 1/dsq*(2*sig12/(dsq**6) - sig6/(dsq**3))\n",
    "                Fx[i] = Fx[i] + f*rxd\n",
    "                Fy[i] = Fy[i] + f*ryd\n",
    "                Fz[i] = Fz[i] + f*rzd\n",
    "                Fx[j] = Fx[j] - f*rxd\n",
    "                Fy[j] = Fy[j] - f*ryd\n",
    "                Fz[j] = Fz[j] - f*rzd\n",
    "        KE = KE + Vx[i]*Vx[i]+Vy[i]*Vy[i]+Vz[i]*Vz[i]\n",
    "    KE = KE + Vx[N-1]*Vx[N-1]+Vy[N-1]*Vy[N-1]+Vz[N-1]*Vz[N-1]\n",
    "    U = 4*eps*U\n",
    "    KE = KE*m*0.5\n",
    "    Fx, Fy, Fz = 24*eps*Fx, 24*eps*Fy, 24*eps*Fz\n",
    "    return Fx, Fy, Fz, U, KE"
   ]
  },
  {
   "cell_type": "code",
   "execution_count": 10,
   "id": "10f28016",
   "metadata": {},
   "outputs": [
    {
     "name": "stdout",
     "output_type": "stream",
     "text": [
      "Input parameters defined: {'sigma': 1.0, 'epsilon': 1.0, 'm': 1.0, 'Lx': 8.0, 'Ly': 8.0, 'Lz': 8.0, 'ovrlap': 0.8, 'rho': 0.5, 'dt': 0.001, 'Nsteps': 2000.0, 'rcut': 3.0}\n",
      "Number of particles are 256\n",
      "Particles do not overlap, min distance = 0.801\n",
      "Progress:  100.0%\r"
     ]
    }
   ],
   "source": [
    "### MD runs ### \n",
    "### read input file ###\n",
    "inputfil = 'params.in'\n",
    "params = read_data(path + inputfil)  \n",
    "##### Initialize parameters \n",
    "sig, eps, m, Lx, Ly, Lz, ovrlap, rho, dt, Nsteps, rcutsq, N, sig6, sig12 = initialize_parameters(params)\n",
    "#### generate initial configuration \n",
    "KE = np.zeros(Nsteps)\n",
    "PE = np.zeros(Nsteps)\n",
    "TE = np.zeros(Nsteps)\n",
    "rx, ry, rz, Vx, Vy, Vz = initial_config()\n",
    "ax, ay, az, U = force()\n",
    "ke = np.sum(Vx*Vx+Vy*Vy+Vz*Vz)*0.5*m\n",
    "KE[0] = ke\n",
    "PE[0] = U\n",
    "TE[0] = ke + U\n",
    "for i in range(1, Nsteps):\n",
    "    print (f\"Progress:  {((i/Nsteps)*100):4.1f}%\", end = '\\r')\n",
    "    rx, ry, rz = position_integration(rx, ry, rz)\n",
    "    Vx, Vy, Vz = verlet(Vx, Vy, Vz)\n",
    "    ax, ay, az, U = force()\n",
    "    Vx, Vy, Vz = verlet(Vx, Vy, Vz)\n",
    "    KE[i] = np.sum(Vx*Vx+Vy*Vy+Vz*Vz)*0.5*m\n",
    "    PE[i] = U\n",
    "    TE[i] = KE[i] + PE[i]"
   ]
  },
  {
   "cell_type": "code",
   "execution_count": 19,
   "id": "25dbdfea",
   "metadata": {},
   "outputs": [
    {
     "data": {
      "image/png": "[encoded data removed]",
      "text/plain": [
       "<Figure size 576x432 with 1 Axes>"
      ]
     },
     "metadata": {
      "needs_background": "light"
     },
     "output_type": "display_data"
    }
   ],
   "source": [
    "tim = np.linspace(0,Nsteps*dt,Nsteps)\n",
    "plt.figure(figsize = (8,6))\n",
    "ax = plt.axes()\n",
    "plt.plot = sns.scatterplot(x = tim , y = TE, color = \"blue\", s = 10)\n",
    "plt.plot = sns.scatterplot(x = tim , y = KE, color = \"red\", s = 10)\n",
    "plt.plot = sns.scatterplot(x = tim , y = PE, color = \"green\", s = 10)\n",
    "ax.legend(labels = ['TE','KE','PE'], fontsize = 14)\n",
    "plt.xlabel(\"Time\",fontsize = 18)\n",
    "plt.ylabel(\"Energy\", fontsize = 18)\n",
    "plt.xticks(fontsize=14)\n",
    "plt.yticks(fontsize=14) \n",
    "plt.tight_layout()\n",
    "# ax.xaxis.set_major_locator(plt.MaxNLocator(8))\n",
    "# ax.yaxis.set_major_locator(plt.MaxNLocator(8))\n",
    "# plt.savefig(pathfil+city+'.png')\n",
    "plt.show()\n",
    "plt.close()"
   ]
  },
  {
   "cell_type": "code",
   "execution_count": null,
   "id": "e678a760",
   "metadata": {},
   "outputs": [],
   "source": []
  }
 ],
 "metadata": {
  "kernelspec": {
   "display_name": "Python 3 (ipykernel)",
   "language": "python",
   "name": "python3"
  },
  "language_info": {
   "codemirror_mode": {
    "name": "ipython",
    "version": 3
   },
   "file_extension": ".py",
   "mimetype": "text/x-python",
   "name": "python",
   "nbconvert_exporter": "python",
   "pygments_lexer": "ipython3",
   "version": "3.9.12"
  }
 },
 "nbformat": 4,
 "nbformat_minor": 5
}