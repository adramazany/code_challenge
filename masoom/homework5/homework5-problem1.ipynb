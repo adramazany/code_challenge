{
 "cells": [
  {
   "cell_type": "code",
   "source": [
    "import numpy as np\n",
    "\n",
    "np.set_printoptions(suppress=True, precision=3)\n",
    "sourceList = [2.2587, 295, 1.3422, 183, 0.6159, 50, 0.4887, 14,\n",
    "              1.1474, 90, 7.5492, 2969, 2.0532, 374, 0.6363, 67, 3.1504, 378,\n",
    "              10.3136, 1886]\n",
    "print(sourceList)"
   ],
   "metadata": {
    "collapsed": false,
    "pycharm": {
     "name": "#%% i) Connect the code to the NumPy library,\n"
    }
   },
   "execution_count": 81,
   "outputs": [
    {
     "name": "stdout",
     "output_type": "stream",
     "text": [
      "[2.2587, 295, 1.3422, 183, 0.6159, 50, 0.4887, 14, 1.1474, 90, 7.5492, 2969, 2.0532, 374, 0.6363, 67, 3.1504, 378, 10.3136, 1886]\n"
     ]
    }
   ]
  },
  {
   "cell_type": "code",
   "source": [
    "myData = np.array(sourceList)\n",
    "print(myData)"
   ],
   "metadata": {
    "collapsed": false,
    "pycharm": {
     "name": "#%% ii) Create an array named myData using the sourceList data.\n"
    }
   },
   "execution_count": 82,
   "outputs": [
    {
     "name": "stdout",
     "output_type": "stream",
     "text": [
      "[   2.259  295.       1.342  183.       0.616   50.       0.489   14.\n",
      "    1.147   90.       7.549 2969.       2.053  374.       0.636   67.\n",
      "    3.15   378.      10.314 1886.   ]\n"
     ]
    }
   ]
  },
  {
   "cell_type": "code",
   "source": [
    "myData = np.reshape(myData,(10,2))\n",
    "print(myData)"
   ],
   "metadata": {
    "collapsed": false,
    "pycharm": {
     "name": "#%% iii) Shape the array\n"
    }
   },
   "execution_count": 83,
   "outputs": [
    {
     "name": "stdout",
     "output_type": "stream",
     "text": [
      "[[   2.259  295.   ]\n",
      " [   1.342  183.   ]\n",
      " [   0.616   50.   ]\n",
      " [   0.489   14.   ]\n",
      " [   1.147   90.   ]\n",
      " [   7.549 2969.   ]\n",
      " [   2.053  374.   ]\n",
      " [   0.636   67.   ]\n",
      " [   3.15   378.   ]\n",
      " [  10.314 1886.   ]]\n"
     ]
    }
   ]
  },
  {
   "cell_type": "code",
   "execution_count": 84,
   "outputs": [
    {
     "name": "stdout",
     "output_type": "stream",
     "text": [
      "2\n",
      "(10, 2)\n"
     ]
    }
   ],
   "source": [
    "print(myData.ndim)\n",
    "print(myData.shape)"
   ],
   "metadata": {
    "collapsed": false,
    "pycharm": {
     "name": "#%% iv) Print out the number of dimensions and the dimensions (shape) of the array\n"
    }
   }
  },
  {
   "cell_type": "code",
   "source": [
    "for i in range(len(myData)):\n",
    "    v = myData[i]\n",
    "    for j in range(len(v)):\n",
    "        print(i,j,v[j])"
   ],
   "metadata": {
    "collapsed": false,
    "pycharm": {
     "name": "#%% v) Using a nested loop, print out every element in the array, along with its coordinates within the array\n"
    }
   },
   "execution_count": 85,
   "outputs": [
    {
     "name": "stdout",
     "output_type": "stream",
     "text": [
      "0 0 2.2587\n",
      "0 1 295.0\n",
      "1 0 1.3422\n",
      "1 1 183.0\n",
      "2 0 0.6159\n",
      "2 1 50.0\n",
      "3 0 0.4887\n",
      "3 1 14.0\n",
      "4 0 1.1474\n",
      "4 1 90.0\n",
      "5 0 7.5492\n",
      "5 1 2969.0\n",
      "6 0 2.0532\n",
      "6 1 374.0\n",
      "7 0 0.6363\n",
      "7 1 67.0\n",
      "8 0 3.1504\n",
      "8 1 378.0\n",
      "9 0 10.3136\n",
      "9 1 1886.0\n"
     ]
    }
   ]
  },
  {
   "cell_type": "code",
   "execution_count": 86,
   "outputs": [
    {
     "name": "stdout",
     "output_type": "stream",
     "text": [
      "[array([  1.342, 183.   ]), array([ 0.616, 50.   ]), array([ 0.489, 14.   ])]\n"
     ]
    }
   ],
   "source": [
    "extractedArray = [myData[1], myData[2], myData[3]]\n",
    "print(extractedArray)\n"
   ],
   "metadata": {
    "collapsed": false,
    "pycharm": {
     "name": "#%% vi) Using data slicing, extract the second, third and fourth rows of data from myArray. Put this in an array named 'extractedArray'.\n"
    }
   }
  },
  {
   "cell_type": "code",
   "execution_count": 87,
   "outputs": [
    {
     "name": "stdout",
     "output_type": "stream",
     "text": [
      "[[  1.342   0.616   0.489]\n",
      " [183.     50.     14.   ]]\n"
     ]
    }
   ],
   "source": [
    "transposeExtract = np.transpose(extractedArray)\n",
    "print(transposeExtract)\n"
   ],
   "metadata": {
    "collapsed": false,
    "pycharm": {
     "name": "#%% vii) Transpose this extraction, and bind the resulting object to the ‘transposeExtract’ variable.\n"
    }
   }
  },
  {
   "cell_type": "code",
   "execution_count": 88,
   "outputs": [
    {
     "name": "stdout",
     "output_type": "stream",
     "text": [
      "[[  13.422    6.159    4.887]\n",
      " [1830.     500.     140.   ]]\n"
     ]
    }
   ],
   "source": [
    "mulTransposeExtract = np.multiply(transposeExtract,10)\n",
    "print(mulTransposeExtract)"
   ],
   "metadata": {
    "collapsed": false,
    "pycharm": {
     "name": "#%% viii) Multiply transposeExtract by 10 using broadcasting, and bind the results in the variable mulTransposeExtract.\n"
    }
   }
  },
  {
   "cell_type": "code",
   "execution_count": 89,
   "outputs": [
    {
     "name": "stdout",
     "output_type": "stream",
     "text": [
      "[[  14.764    6.775    5.376]\n",
      " [2013.     550.     154.   ]]\n"
     ]
    }
   ],
   "source": [
    "alteredTransposeExtract = transposeExtract + mulTransposeExtract\n",
    "# alteredTransposeExtract = np.add(transposeExtract, mulTransposeExtract)\n",
    "print(alteredTransposeExtract)"
   ],
   "metadata": {
    "collapsed": false,
    "pycharm": {
     "name": "#%% ix) Add together transposeExtract and mulTransposeExtract using the appropriate operator, and bind the result in alteredTransposeExtract.\n"
    }
   }
  },
  {
   "cell_type": "code",
   "execution_count": 90,
   "outputs": [
    {
     "name": "stdout",
     "output_type": "stream",
     "text": [
      "[[   1.342    0.616    0.489]\n",
      " [ 183.      50.      14.   ]\n",
      " [  14.764    6.775    5.376]\n",
      " [2013.     550.     154.   ]]\n"
     ]
    }
   ],
   "source": [
    "# that transposeExtract is on top and alteredTransposeExtract is on the bottom. Bind the result to a\n",
    "# variable named bigArray.\n",
    "bigArray = np.vstack((transposeExtract,alteredTransposeExtract))\n",
    "print(bigArray)\n"
   ],
   "metadata": {
    "collapsed": false,
    "pycharm": {
     "name": "#%% x) Use stacking to combine transposeExtract and alteredTransposeExtract into one array, such\n"
    }
   }
  },
  {
   "cell_type": "code",
   "execution_count": 91,
   "outputs": [
    {
     "name": "stdout",
     "output_type": "stream",
     "text": [
      "[[   -1.342    -0.616    -0.489]\n",
      " [ -183.      -50.      -14.   ]\n",
      " [  -14.764    -6.775    -5.376]\n",
      " [-2013.     -550.     -154.   ]]\n"
     ]
    }
   ],
   "source": [
    "# variable, negBigArray\n",
    "negBigArray = np.negative(bigArray)\n",
    "print(negBigArray)"
   ],
   "metadata": {
    "collapsed": false,
    "pycharm": {
     "name": "#%% xi) Use the negative ufunc to make all the values in bigArray negative. Bind the result to a new\n"
    }
   }
  },
  {
   "cell_type": "code",
   "execution_count": 92,
   "outputs": [
    {
     "name": "stdout",
     "output_type": "stream",
     "text": [
      "[  3.153 938.827]\n"
     ]
    }
   ],
   "source": [
    "# additional parameter) of myArray for EACH COLUMN. This should result in a 2x1 matrix.\n",
    "# Bind it to the variable ‘arrayStdDev’\n",
    "# ???\n",
    "# arrayStdDev = np.std(bigArray,axis=0)\n",
    "# arrayStdDev = np.std(alteredTransposeExtract,axis=1)\n",
    "# arrayStdDev = np.std(transposeExtract,axis=1)\n",
    "# arrayStdDev = np.std(extractedArray,axis=0)\n",
    "arrayStdDev = np.std(myData,axis=0)\n",
    "print(arrayStdDev)\n"
   ],
   "metadata": {
    "collapsed": false,
    "pycharm": {
     "name": "#%% xii) Obtain the standard deviation OF THE POPULATION (consult the slides – this requires an\n"
    }
   }
  }
 ],
 "metadata": {
  "kernelspec": {
   "display_name": "Python 3",
   "language": "python",
   "name": "python3"
  },
  "language_info": {
   "codemirror_mode": {
    "name": "ipython",
    "version": 2
   },
   "file_extension": ".py",
   "mimetype": "text/x-python",
   "name": "python",
   "nbconvert_exporter": "python",
   "pygments_lexer": "ipython2",
   "version": "2.7.6"
  }
 },
 "nbformat": 4,
 "nbformat_minor": 0
}