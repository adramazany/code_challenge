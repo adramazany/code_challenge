{
 "cells": [
  {
   "cell_type": "code",
   "execution_count": 17,
   "metadata": {
    "collapsed": true,
    "pycharm": {
     "name": "#%% i) Write code to connect your code to both the NumPy and Pandas libraries.\n"
    }
   },
   "outputs": [],
   "source": [
    "import numpy as np\n",
    "import pandas as pd"
   ]
  },
  {
   "cell_type": "code",
   "execution_count": 18,
   "outputs": [
    {
     "name": "stdout",
     "output_type": "stream",
     "text": [
      "                gdp  energy\n",
      "Austria       45451   30633\n",
      "Belgium       62049   58894\n",
      "Cyprus         2003    1211\n",
      "Denmark       34540   27049\n",
      "Finland       28388   26405\n",
      "France       358675  233907\n",
      "Greece        38039   20119\n",
      "Iceland        1331    1124\n",
      "Ireland       11788   11053\n",
      "Italy        265863  192453\n",
      "Malta          1251     456\n",
      "Netherlands   82804   84416\n",
      "Norway        27914   26086\n",
      "Portugal      30642   12080\n",
      "Spain        159602   88148\n",
      "Sweden        59350   45132\n",
      "Switzerland   42238   23234\n",
      "Turkey        91946   32619\n",
      "UK           279191  268056\n",
      "WGermany     428888  352677\n"
     ]
    }
   ],
   "source": [
    "EuroEnergy = pd.read_csv(\"https://vincentarelbundock.github.io/Rdatasets/csv/AER/EuroEnergy.csv\",header=0,index_col=0)\n",
    "print(EuroEnergy)\n"
   ],
   "metadata": {
    "collapsed": false,
    "pycharm": {
     "name": "#%% ii) Have Pandas access the data from the following source:\n"
    }
   }
  },
  {
   "cell_type": "code",
   "execution_count": 19,
   "outputs": [
    {
     "name": "stdout",
     "output_type": "stream",
     "text": [
      "gdp\n",
      "energy\n",
      "Austria\n",
      "Belgium\n",
      "Cyprus\n",
      "Denmark\n",
      "Finland\n",
      "France\n",
      "Greece\n",
      "Iceland\n",
      "Ireland\n",
      "Italy\n",
      "Malta\n",
      "Netherlands\n",
      "Norway\n",
      "Portugal\n",
      "Spain\n",
      "Sweden\n",
      "Switzerland\n",
      "Turkey\n",
      "UK\n",
      "WGermany\n"
     ]
    }
   ],
   "source": [
    "for c in EuroEnergy.columns:\n",
    "    print(c)\n",
    "for i in EuroEnergy.index:\n",
    "    print(i)\n"
   ],
   "metadata": {
    "collapsed": false,
    "pycharm": {
     "name": "#%% iii) Iterate through the index and column attributes, printing out each one\n"
    }
   }
  },
  {
   "cell_type": "code",
   "execution_count": 20,
   "outputs": [
    {
     "name": "stdout",
     "output_type": "stream",
     "text": [
      "Austria         45451\n",
      "Belgium         62049\n",
      "Cyprus           2003\n",
      "Denmark         34540\n",
      "Finland         28388\n",
      "France         358675\n",
      "Greece          38039\n",
      "Iceland          1331\n",
      "Ireland         11788\n",
      "Italy          265863\n",
      "Malta            1251\n",
      "Netherlands     82804\n",
      "Norway          27914\n",
      "Portugal        30642\n",
      "Spain          159602\n",
      "Sweden          59350\n",
      "Switzerland     42238\n",
      "Turkey          91946\n",
      "UK             279191\n",
      "WGermany       428888\n",
      "Name: gdp, dtype: int64\n"
     ]
    }
   ],
   "source": [
    "gdpData = EuroEnergy[\"gdp\"]\n",
    "print(gdpData)"
   ],
   "metadata": {
    "collapsed": false,
    "pycharm": {
     "name": "#%% iv) Using slicing, extract the column “gdp” and bind the result to a variable named gdpData.\n"
    }
   }
  },
  {
   "cell_type": "code",
   "execution_count": 21,
   "outputs": [
    {
     "name": "stdout",
     "output_type": "stream",
     "text": [
      "Austria         30633\n",
      "Belgium         58894\n",
      "Cyprus           1211\n",
      "Denmark         27049\n",
      "Finland         26405\n",
      "France         233907\n",
      "Greece          20119\n",
      "Iceland          1124\n",
      "Ireland         11053\n",
      "Italy          192453\n",
      "Malta             456\n",
      "Netherlands     84416\n",
      "Norway          26086\n",
      "Portugal        12080\n",
      "Spain           88148\n",
      "Sweden          45132\n",
      "Switzerland     23234\n",
      "Turkey          32619\n",
      "UK             268056\n",
      "WGermany       352677\n",
      "Name: energy, dtype: int64\n"
     ]
    }
   ],
   "source": [
    "energyData = EuroEnergy[\"energy\"]\n",
    "print(energyData)\n"
   ],
   "metadata": {
    "collapsed": false,
    "pycharm": {
     "name": "#%% v) Using slicing, extract the column “energy” and bind the result to a variable named energyData.\n"
    }
   }
  },
  {
   "cell_type": "code",
   "execution_count": 22,
   "outputs": [
    {
     "name": "stdout",
     "output_type": "stream",
     "text": [
      "count        20.000000\n",
      "mean     102597.650000\n",
      "std      127323.430086\n",
      "min        1251.000000\n",
      "25%       28269.500000\n",
      "50%       43844.500000\n",
      "75%      108860.000000\n",
      "max      428888.000000\n",
      "Name: gdp, dtype: float64\n"
     ]
    }
   ],
   "source": [
    "print( gdpData.describe() )\n"
   ],
   "metadata": {
    "collapsed": false,
    "pycharm": {
     "name": "#%% vi) Get the descriptive statistics (using a single method call) from gdpData,\n"
    }
   }
  },
  {
   "cell_type": "code",
   "execution_count": 23,
   "outputs": [
    {
     "name": "stdout",
     "output_type": "stream",
     "text": [
      "count        20.000000\n",
      "mean      76787.600000\n",
      "std      101511.706947\n",
      "min         456.000000\n",
      "25%       18109.250000\n",
      "50%       28841.000000\n",
      "75%       85349.000000\n",
      "max      352677.000000\n",
      "Name: energy, dtype: float64\n"
     ]
    }
   ],
   "source": [
    "print( energyData.describe() )\n"
   ],
   "metadata": {
    "collapsed": false,
    "pycharm": {
     "name": "#%% vii) Get the descriptive statistics (using a single method call) from energyData,\n"
    }
   }
  },
  {
   "cell_type": "code",
   "execution_count": 24,
   "outputs": [
    {
     "name": "stdout",
     "output_type": "stream",
     "text": [
      "gdp       127323.430086\n",
      "energy    101511.706947\n",
      "dtype: float64\n"
     ]
    }
   ],
   "source": [
    "print( EuroEnergy.std() )\n"
   ],
   "metadata": {
    "collapsed": false,
    "pycharm": {
     "name": "#%% viii) Get the SAMPLE standard deviations for the columns in EuroEnergy.\n"
    }
   }
  },
  {
   "cell_type": "code",
   "execution_count": 25,
   "outputs": [
    {
     "name": "stdout",
     "output_type": "stream",
     "text": [
      "                gdp  energy\n",
      "Sweden        59350   45132\n",
      "Italy        265863  192453\n",
      "Switzerland   42238   23234\n",
      "Denmark       34540   27049\n",
      "UK           279191  268056\n"
     ]
    }
   ],
   "source": [
    "# Denmark, UK. Bind the result to a variable named euroExtract,\n",
    "euroExtract = EuroEnergy.loc[[\"Sweden\", \"Italy\", \"Switzerland\", \"Denmark\", \"UK\"]]\n",
    "print(euroExtract)\n"
   ],
   "metadata": {
    "collapsed": false,
    "pycharm": {
     "name": "#%% ix) Using data slicing, extract the data in the following rows: Sweden, Italy, Switzerland,\n"
    }
   }
  },
  {
   "cell_type": "code",
   "execution_count": 26,
   "outputs": [
    {
     "name": "stdout",
     "output_type": "stream",
     "text": [
      "                gdp  energy\n",
      "UK           279191  268056\n",
      "Italy        265863  192453\n",
      "Sweden        59350   45132\n",
      "Switzerland   42238   23234\n",
      "Denmark       34540   27049\n"
     ]
    }
   ],
   "source": [
    "# should be descending (largest first).\n",
    "euroExtract.sort_values(by=[\"gdp\"],ascending=False,inplace=True)\n",
    "print(euroExtract)\n"
   ],
   "metadata": {
    "collapsed": false,
    "pycharm": {
     "name": "#%% x) Sort euroExtract,, WITHOUT making a copy, using the value in the GDP column. The order\n"
    }
   }
  },
  {
   "cell_type": "code",
   "execution_count": 27,
   "outputs": [
    {
     "name": "stdout",
     "output_type": "stream",
     "text": [
      "                gdp  energy\n",
      "Switzerland   42238   23234\n",
      "Denmark       34540   27049\n",
      "Sweden        59350   45132\n",
      "Italy        265863  192453\n",
      "UK           279191  268056\n"
     ]
    }
   ],
   "source": [
    "# be ascending (smallest first). Bind the copy to a variable named sortedByEnergy\n",
    "sortedByEnergy = euroExtract.sort_values(by=[\"energy\"],ascending=True)\n",
    "print(sortedByEnergy)"
   ],
   "metadata": {
    "collapsed": false,
    "pycharm": {
     "name": "#%% xi) Sort euroExtract, returning a copy, using the value in the Energy column. The order should\n"
    }
   }
  },
  {
   "cell_type": "code",
   "execution_count": 28,
   "outputs": [
    {
     "name": "stdout",
     "output_type": "stream",
     "text": [
      "[ True False False  True False  True False False False False]\n"
     ]
    }
   ],
   "source": [
    "# not sort, just extract the top ten elements in the order that it is presently in. Bind the result of this\n",
    "# extraction to a variable, topGDP. Then bind the bottom half of the GDP column into a variable,\n",
    "# bottomGDP. Extract the underling NumPy arrays, and compare the array of topGDP to the array\n",
    "# of bottomGDP using the > operator. Note that attempting to compare the extractions using\n",
    "# Pandas data types will result in an error as the two extractions don’t have identical labels. Bind\n",
    "# the result of the comparison to a variable, topBottomCompare, and print it out.\n",
    "topGDP = EuroEnergy[\"gdp\"][:10]\n",
    "# print(topGDP)\n",
    "bottomGDP = EuroEnergy[\"gdp\"][10:]\n",
    "# print(bottomGDP)\n",
    "topBottomCompare = topGDP.to_numpy() > bottomGDP.to_numpy()\n",
    "print(topBottomCompare)"
   ],
   "metadata": {
    "collapsed": false,
    "pycharm": {
     "name": "#%% xii) Use slicing to extract the top half of the GDP column from EuroData.Note that you should\n"
    }
   }
  },
  {
   "cell_type": "code",
   "execution_count": 29,
   "outputs": [
    {
     "name": "stdout",
     "output_type": "stream",
     "text": [
      "76787.6\n",
      "                gdp  energy\n",
      "France       358675  233907\n",
      "Italy        265863  192453\n",
      "Netherlands   82804   84416\n",
      "Spain        159602   88148\n",
      "UK           279191  268056\n",
      "WGermany     428888  352677\n"
     ]
    }
   ],
   "source": [
    "# averageEnergy. Then use Boolean indexing to select the rows in EuroData with a value for the\n",
    "# energy column that are greater than or equal to averageEnergy. Name the output of this\n",
    "# highEnergyConsumers, and print out highEnergyConsumers. HINT: Try using\n",
    "# ‘EuroData.energy’ as part of the comparison,\n",
    "averageEnergy = energyData.mean()\n",
    "print(averageEnergy)\n",
    "highEnergyConsumers = EuroEnergy[EuroEnergy.energy>averageEnergy]\n",
    "print(highEnergyConsumers)\n",
    "\n"
   ],
   "metadata": {
    "collapsed": false,
    "pycharm": {
     "name": "#%% xiii) Get the average (mean) of the energy in energyData. Store it in a variable named\n"
    }
   }
  }
 ],
 "metadata": {
  "kernelspec": {
   "display_name": "Python 3",
   "language": "python",
   "name": "python3"
  },
  "language_info": {
   "codemirror_mode": {
    "name": "ipython",
    "version": 2
   },
   "file_extension": ".py",
   "mimetype": "text/x-python",
   "name": "python",
   "nbconvert_exporter": "python",
   "pygments_lexer": "ipython2",
   "version": "2.7.6"
  }
 },
 "nbformat": 4,
 "nbformat_minor": 0
}