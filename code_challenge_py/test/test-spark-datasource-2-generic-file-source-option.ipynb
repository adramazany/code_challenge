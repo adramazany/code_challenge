{
 "cells": [
  {
   "cell_type": "code",
   "execution_count": 10,
   "outputs": [
    {
     "name": "stdout",
     "output_type": "stream",
     "text": [
      "+-------------+\n",
      "|         file|\n",
      "+-------------+\n",
      "|file1.parquet|\n",
      "|file2.parquet|\n",
      "|file2.parquet|\n",
      "+-------------+\n",
      "\n"
     ]
    }
   ],
   "source": [
    "import os\n",
    "\n",
    "from pyspark.sql import SparkSession\n",
    "from pyspark.sql.utils import AnalysisException\n",
    "\n",
    "spark = SparkSession \\\n",
    "    .builder.appName(\"test spark datasource generic file source option\") \\\n",
    "    .master(\"local[*]\") \\\n",
    "    .getOrCreate()\n",
    "# These generic options/configurations are effective only when using file-based sources: parquet, orc, avro, json, csv, text.\n",
    "# Please note that the hierarchy of directories used in examples below are:\n",
    "# dir1/\n",
    "# ├── dir2/\n",
    "# │    └── file2.parquet (schema: <file: string>, content: \"file2.parquet\")\n",
    "# └── file1.parquet (schema: <file, string>, content: \"file1.parquet\")\n",
    "# └── file3.json (schema: <file, string>, content: \"{'file':'corrupt.json'}\")\n",
    "\n",
    "## Ignore Corrupt Files\n",
    "# Spark allows you to use spark.sql.files.ignoreCorruptFiles to ignore corrupt files while reading data from files. When set to true, the Spark jobs will continue to run when encountering corrupted files and the contents that have been read will still be returned.\n",
    "\n",
    "# enable ignore corrupt files\n",
    "spark.sql(\"set spark.sql.files.ignoreCorruptFiles=true\")\n",
    "\n",
    "# dir1/file3.json is corrupt from parquet's view\n",
    "test_corrupt_df = spark.read.parquet(\"resources/dir1\",\"resources/dir1/dir2\")\n",
    "test_corrupt_df.show()\n"
   ],
   "metadata": {
    "collapsed": false,
    "pycharm": {
     "name": "#%%\n"
    }
   }
  },
  {
   "cell_type": "code",
   "execution_count": null,
   "outputs": [],
   "source": [
    "## Ignore Missing Files\n",
    "# Spark allows you to use spark.sql.files.ignoreMissingFiles to ignore missing files while reading data from files. Here, missing file really means the deleted file under directory after you construct the DataFrame. When set to true, the Spark jobs will continue to run when encountering missing files and the contents that have been read will still be returned."
   ],
   "metadata": {
    "collapsed": false,
    "pycharm": {
     "name": "#%%\n"
    }
   }
  },
  {
   "cell_type": "code",
   "execution_count": 4,
   "outputs": [
    {
     "name": "stdout",
     "output_type": "stream",
     "text": [
      "+-------------+\n",
      "|         file|\n",
      "+-------------+\n",
      "|file1.parquet|\n",
      "+-------------+\n",
      "\n"
     ]
    }
   ],
   "source": [
    "## Path Global Filter\n",
    "# pathGlobFilter is used to only include files with file names matching the pattern. The syntax follows org.apache.hadoop.fs.GlobFilter. It does not change the behavior of partition discovery.\n",
    "# To load files with paths matching a given glob pattern while keeping the behavior of partition discovery, you can use:\n",
    "spark.sql(\"set spark.sql.files.ignoreCorruptFiles=false\")\n",
    "df = spark.read.load(\"resources/dir1/\",format=\"parquet\",pathGlobFilter=\"*.parquet\")\n",
    "df.show()"
   ],
   "metadata": {
    "collapsed": false,
    "pycharm": {
     "name": "#%%\n"
    }
   }
  },
  {
   "cell_type": "code",
   "execution_count": 14,
   "outputs": [
    {
     "name": "stdout",
     "output_type": "stream",
     "text": [
      "+-------------+\n",
      "|         file|\n",
      "+-------------+\n",
      "|file1.parquet|\n",
      "|file2.parquet|\n",
      "+-------------+\n",
      "\n"
     ]
    }
   ],
   "source": [
    "## Recursive File Lookup\n",
    "# recursiveFileLookup is used to recursively load files and it disables partition inferring. Its default value is false. If data source explicitly specifies the partitionSpec when recursiveFileLookup is true, exception will be thrown.\n",
    "recursive_load_df = spark.read.format(\"parquet\") \\\n",
    "    .option(\"recursiveFileLookup\",\"true\") \\\n",
    "    .option(\"pathGlobFilter\",\"*.parquet\") \\\n",
    "    .load(\"resources/dir1/\")\n",
    "recursive_load_df.show()\n",
    "\n"
   ],
   "metadata": {
    "collapsed": false,
    "pycharm": {
     "name": "#%%\n"
    }
   }
  },
  {
   "cell_type": "code",
   "execution_count": 8,
   "outputs": [
    {
     "name": "stdout",
     "output_type": "stream",
     "text": [
      "+-------------+\n",
      "|         file|\n",
      "+-------------+\n",
      "|file1.parquet|\n",
      "|file2.parquet|\n",
      "+-------------+\n",
      "\n",
      "+-------------+\n",
      "|         file|\n",
      "+-------------+\n",
      "|file1.parquet|\n",
      "|file2.parquet|\n",
      "+-------------+\n",
      "\n"
     ]
    }
   ],
   "source": [
    "## Modification Time Path Filters\n",
    "# modifiedBefore and modifiedAfter are options that can be applied together or separately in order to achieve greater granularity over which files may load during a Spark batch query. (Note that Structured Streaming file sources don’t support these options.)\n",
    "# modifiedBefore: an optional timestamp to only include files with modification times occurring before the specified time. The provided timestamp must be in the following format: YYYY-MM-DDTHH:mm:ss (e.g. 2020-06-01T13:00:00)\n",
    "# modifiedAfter: an optional timestamp to only include files with modification times occurring after the specified time. The provided timestamp must be in the following format: YYYY-MM-DDTHH:mm:ss (e.g. 2020-06-01T13:00:00)\n",
    "# When a timezone option is not provided, the timestamps will be interpreted according to the Spark session timezone (spark.sql.session.timeZone).\n",
    "# To load files with paths matching a given modified time range, you can use:\n",
    "\n",
    "# Only load files modified before 07/1/2050 @ 08:30:00\n",
    "df = spark.read.load(\"resources/dir1\",\n",
    "                     format=\"parquet\"\n",
    "                     ,pathGlobFilter=\"*.parquet\"\n",
    "                     , modifiedBefore=\"2050-07-01T08:30:00\")\n",
    "df.show()\n",
    "\n",
    "# Only load files modified after 06/01/2050 @ 08:30:00\n",
    "try:\n",
    "    df = spark.read.load(\"resources/dir1\",\n",
    "                         format=\"parquet\"\n",
    "                         ,pathGlobFilter=\"*.parquet\"\n",
    "                         , modifiedAfter=\"2022-02-10T18:10:00\")\n",
    "    df.show()\n",
    "#     \"2050-06-01T08:30:00\"\n",
    "except AnalysisException as ex:\n",
    "    print(\"dataframe is empty\",ex.desc)\n",
    "\n"
   ],
   "metadata": {
    "collapsed": false,
    "pycharm": {
     "name": "#%%\n"
    }
   }
  },
  {
   "cell_type": "code",
   "execution_count": 17,
   "outputs": [
    {
     "data": {
      "text/plain": "['resources/dir1/file1.parquet',\n 'resources/dir1/file2.parquet',\n 'resources/dir1/file3.json',\n 'resources/dir1\\\\dir2/file2.parquet']"
     },
     "execution_count": 17,
     "metadata": {},
     "output_type": "execute_result"
    }
   ],
   "source": [
    "def getFilesModifiedAfter(path, modifiedAfter):\n",
    "    f=[]\n",
    "    for root, dirs, files in os.walk(path):\n",
    "        # newfiles=filter(lambda file:os.stat(root+\"/\"+file).st_mtime>modifiedAfter , files)\n",
    "        for file in files:\n",
    "            if os.stat(root+\"/\"+file).st_mtime>modifiedAfter:\n",
    "                f.append(root+\"/\"+file)\n",
    "    return f\n",
    "\n",
    "getFilesModifiedAfter(\"resources/dir1\",1644056071.685726)\n"
   ],
   "metadata": {
    "collapsed": false,
    "pycharm": {
     "name": "#%%\n"
    }
   }
  },
  {
   "cell_type": "code",
   "execution_count": 19,
   "outputs": [
    {
     "name": "stdout",
     "output_type": "stream",
     "text": [
      "dataframe is empty Unable to infer schema for Parquet. It must be specified manually.\n"
     ]
    }
   ],
   "source": [
    "try:\n",
    "    df = spark.read.load(getFilesModifiedAfter(\"resources/dir1\",1644856071.685726),\n",
    "                         format=\"parquet\"\n",
    "                         ,pathGlobFilter=\"*.parquet\"\n",
    "                         , modifiedAfter=\"2022-02-10T18:10:00\")\n",
    "    df.show()\n",
    "#     \"2050-06-01T08:30:00\"\n",
    "except AnalysisException as ex:\n",
    "    print(\"dataframe is empty\",ex.desc)\n"
   ],
   "metadata": {
    "collapsed": false,
    "pycharm": {
     "name": "#%%\n"
    }
   }
  }
 ],
 "metadata": {
  "kernelspec": {
   "display_name": "Python 3",
   "language": "python",
   "name": "python3"
  },
  "language_info": {
   "codemirror_mode": {
    "name": "ipython",
    "version": 2
   },
   "file_extension": ".py",
   "mimetype": "text/x-python",
   "name": "python",
   "nbconvert_exporter": "python",
   "pygments_lexer": "ipython2",
   "version": "2.7.6"
  }
 },
 "nbformat": 4,
 "nbformat_minor": 0
}