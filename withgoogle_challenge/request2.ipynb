{
 "cells": [
  {
   "cell_type": "code",
   "execution_count": null,
   "metadata": {
    "collapsed": true
   },
   "outputs": [],
   "source": [
    "# Rumor has it the bunny trainers are inexplicably fond of bananas.\n",
    "# You're an apple person yourself, but you file the information away\n",
    "# for future reference. You never know when you might need to bribe\n",
    "# a trainer (or three)...\n",
    "\n",
    "# Hey, I Already Did That!\n",
    "# ========================\n",
    "# Commander Lambda uses an automated algorithm to assign minions randomly\n",
    "# to tasks, in order to keep minions on their toes. But you've noticed\n",
    "# a flaw in the algorithm -- it eventually loops back on itself, so that\n",
    "# instead of assigning new minions as it iterates, it gets stuck in\n",
    "# a cycle of values so that the same minions end up doing the same tasks\n",
    "# over and over again. You think proving this to Commander Lambda will\n",
    "# help you make a case for your next promotion.\n",
    "#\n",
    "# You have worked out that the algorithm has the following process:\n",
    "#\n",
    "# 1) Start with a random minion ID n, which is a nonnegative integer\n",
    "# of length k in base b\n",
    "# 2) Define x and y as integers of length k.  x has the digits of n\n",
    "# in descending order, and y has the digits of n in ascending order\n",
    "# 3) Define z = x - y.  Add leading zeros to z to maintain length k\n",
    "# if necessary\n",
    "# 4) Assign n = z to get the next minion ID, and go back to step 2\n",
    "#\n",
    "# For example, given minion ID n = 1211, k = 4, b = 10,\n",
    "# then x = 2111, y = 1112 and z = 2111 - 1112 = 0999.\n",
    "# Then the next minion ID will be n = 0999 and\n",
    "# the algorithm iterates again: x = 9990, y = 0999\n",
    "# and z = 9990 - 0999 = 8991, and so on.\n",
    "#\n",
    "#     Depending on the values of n, k (derived from n), and b,\n",
    "#     at some point the algorithm reaches a cycle, such as by reaching\n",
    "#     a constant value. For example, starting with n = 210022, k = 6\n",
    "#     , b = 3, the algorithm will reach the cycle of values\n",
    "#     [210111, 122221, 102212] and it will stay in this cycle no matter\n",
    "#     how many times it continues iterating. Starting with n = 1211,\n",
    "#     the routine will reach the integer 6174, and since 7641 - 1467 is 6174,\n",
    "#     it will stay as that value no matter how many times it iterates.\n",
    "#\n",
    "# Given a minion ID as a string n representing a nonnegative integer\n",
    "# of length k in base b, where 2 <= k <= 9 and 2 <= b <= 10,\n",
    "# write a function solution(n, b) which returns the length\n",
    "# of the ending cycle of the algorithm above starting with n.\n",
    "# For instance, in the example above, solution(210022, 3) would return 3,\n",
    "# since iterating on 102212 would return to 210111 when done in base 3.\n",
    "# If the algorithm reaches a constant, such as 0, then the length is 1.import math\n"
   ]
  },
  {
   "cell_type": "code",
   "execution_count": 4,
   "outputs": [
    {
     "name": "stdout",
     "output_type": "stream",
     "text": [
      "002322\n"
     ]
    }
   ],
   "source": [
    "def baseN(num,b,numerals=\"0123456789abcdefghijklmnopqrstuvwxyz\"):\n",
    "    return ((num == 0) and numerals[0]) or (baseN(num // b, b, numerals).lstrip(numerals[0]) + numerals[num % b])\n",
    "def baseN_lenK(num,b,k):\n",
    "    nb = baseN(num,b)\n",
    "    return nb.zfill(k)\n",
    "print(baseN_lenK(1234,8,6))"
   ],
   "metadata": {
    "collapsed": false,
    "pycharm": {
     "name": "#%% common\n"
    }
   }
  },
  {
   "cell_type": "code",
   "execution_count": 10,
   "outputs": [
    {
     "name": "stdout",
     "output_type": "stream",
     "text": [
      "586 1097 511\n"
     ]
    }
   ],
   "source": [
    "b = 8\n",
    "n = '1211'\n",
    "l = sorted(n)\n",
    "s = int(''.join(l),b)\n",
    "r = int(''.join(reversed(l)),b)\n",
    "print(s,r,r-s)"
   ],
   "metadata": {
    "collapsed": false,
    "pycharm": {
     "name": "#%% sorted and reversed numbers diff\n"
    }
   }
  },
  {
   "cell_type": "code",
   "execution_count": 4,
   "outputs": [
    {
     "name": "stdout",
     "output_type": "stream",
     "text": [
      "1097 586 511\n",
      "2111\n",
      "2111 1112 777\n"
     ]
    }
   ],
   "source": [
    "n = int('2111',8)\n",
    "m = int('1112',8)\n",
    "print(n,m,n-m)\n",
    "print(\"{0:o}\".format(n))\n",
    "print(baseN(n,8),baseN(m,8),baseN(n-m,8))"
   ],
   "metadata": {
    "collapsed": false,
    "pycharm": {
     "name": "#%% numbers based on n\n"
    }
   }
  },
  {
   "cell_type": "code",
   "execution_count": 5,
   "outputs": [
    {
     "name": "stdout",
     "output_type": "stream",
     "text": [
      "1096 137 959\n",
      "2110 0211 1677\n"
     ]
    }
   ],
   "source": [
    "n = int('2110',8)\n",
    "m = int('0211',8)\n",
    "print(n,m,n-m)\n",
    "print(baseN_lenK(n,8,4),baseN_lenK(m,8,4),baseN_lenK(n-m,8,4))"
   ],
   "metadata": {
    "collapsed": false,
    "pycharm": {
     "name": "#%% number base b and length k\n"
    }
   }
  },
  {
   "cell_type": "code",
   "execution_count": 3,
   "outputs": [
    {
     "name": "stdout",
     "output_type": "stream",
     "text": [
      "0999\n"
     ]
    }
   ],
   "source": [
    "def baseN(num,b,numerals=\"0123456789abcdefghijklmnopqrstuvwxyz\"):\n",
    "    return ((num == 0) and numerals[0]) or (baseN(num // b, b, numerals).lstrip(numerals[0]) + numerals[num % b])\n",
    "def baseN_lenK(num,b,k):\n",
    "    nb = baseN(num,b)\n",
    "    return nb.zfill(k)\n",
    "def next(n,b):\n",
    "    l = sorted(n)\n",
    "    x = int(''.join(reversed(l)),b)\n",
    "    y = int(''.join(l),b)\n",
    "    z = x - y\n",
    "    return baseN_lenK(z,b,len(n))\n",
    "print(next('1211',10))"
   ],
   "metadata": {
    "collapsed": false,
    "pycharm": {
     "name": "#%% next\n"
    }
   }
  },
  {
   "cell_type": "code",
   "execution_count": null,
   "outputs": [],
   "source": [
    "s = set([\"a\",\"b\",\"c\"])\n",
    "print(s.add(\"d\"))\n",
    "print(s.add(\"a\"))\n",
    "print(s)\n",
    "print(\"a\" in s)\n",
    "print(\"z\" in s)"
   ],
   "metadata": {
    "collapsed": false,
    "pycharm": {
     "name": "#%% is exist in collection\n"
    }
   }
  },
  {
   "cell_type": "code",
   "execution_count": 30,
   "outputs": [
    {
     "name": "stdout",
     "output_type": "stream",
     "text": [
      "None\n",
      "['a', 'b', 'c', 'd']\n",
      "3\n"
     ]
    }
   ],
   "source": [
    "s = list([\"a\",\"b\",\"c\"])\n",
    "print(s.append(\"d\"))\n",
    "print(s)\n",
    "print(len(s)-s.index(\"b\"))"
   ],
   "metadata": {
    "collapsed": false,
    "pycharm": {
     "name": "#%% list until to the end\n"
    }
   }
  },
  {
   "cell_type": "code",
   "execution_count": 34,
   "outputs": [
    {
     "name": "stdout",
     "output_type": "stream",
     "text": [
      "1\n",
      "3\n",
      "1\n"
     ]
    }
   ],
   "source": [
    "def baseN(num,b,numerals=\"0123456789abcdefghijklmnopqrstuvwxyz\"):\n",
    "    return ((num == 0) and numerals[0]) or (baseN(num // b, b, numerals).lstrip(numerals[0]) + numerals[num % b])\n",
    "def baseN_lenK(num,b,k):\n",
    "    nb = baseN(num,b)\n",
    "    return nb.zfill(k)\n",
    "def next(n,b):\n",
    "    l = sorted(n)\n",
    "    x = int(''.join(reversed(l)),b)\n",
    "    y = int(''.join(l),b)\n",
    "    z = x - y\n",
    "    return baseN_lenK(z,b,len(n))\n",
    "def solution(n,b):\n",
    "    if len(n)<2: return 1\n",
    "    s = set()\n",
    "    l = list()\n",
    "    while n not in s:\n",
    "        s.add(n)\n",
    "        l.append(n)\n",
    "        n = next(n,b)\n",
    "        # print(n)\n",
    "    return len(l)-l.index(n)\n",
    "r = solution('1211', 10)\n",
    "print(r)\n",
    "assert r==1, 'incorrect result!'\n",
    "\n",
    "r = solution('210022', 3)\n",
    "print(r)\n",
    "assert r==3, 'incorrect result!'\n",
    "\n",
    "r = solution('0', 10)\n",
    "print(r)\n",
    "assert r==1, 'incorrect result!'\n"
   ],
   "metadata": {
    "collapsed": false,
    "pycharm": {
     "name": "#%% solution\n"
    }
   }
  }
 ],
 "metadata": {
  "kernelspec": {
   "display_name": "Python 3",
   "language": "python",
   "name": "python3"
  },
  "language_info": {
   "codemirror_mode": {
    "name": "ipython",
    "version": 2
   },
   "file_extension": ".py",
   "mimetype": "text/x-python",
   "name": "python",
   "nbconvert_exporter": "python",
   "pygments_lexer": "ipython2",
   "version": "2.7.6"
  }
 },
 "nbformat": 4,
 "nbformat_minor": 0
}