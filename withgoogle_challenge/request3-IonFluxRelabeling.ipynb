{
 "cells": [
  {
   "cell_type": "code",
   "execution_count": null,
   "metadata": {
    "collapsed": true
   },
   "outputs": [],
   "source": [
    "# Ion Flux Relabeling\n",
    "# ===================\n",
    "# Oh no! Commander Lambda's latest experiment to improve the efficiency of the LAMBCHOP doomsday device has backfired spectacularly. The Commander had been improving the structure of the ion flux converter tree, but something went terribly wrong and the flux chains exploded. Some of the ion flux converters survived the explosion intact, but others had their position labels blasted off. Commander Lambda is having her henchmen rebuild the ion flux converter tree by hand, but you think you can do it much more quickly -- quickly enough, perhaps, to earn a promotion!\n",
    "# Flux chains require perfect binary trees, so Lambda's design arranged the ion flux converters to form one. To label them, Lambda performed a post-order traversal of the tree of converters and labeled each converter with the order of that converter in the traversal, starting at 1. For example, a tree of 7 converters would look like the following:\n",
    "#\n",
    "# 7\n",
    "# 3   6\n",
    "# 1 2 4 5\n",
    "#\n",
    "# Write a function solution(h, q) - where h is the height of the perfect\n",
    "# tree of converters and q is a list of positive integers representing\n",
    "# different flux converters - which returns a list of integers p where\n",
    "# each element in p is the label of the converter that sits on top of\n",
    "# the respective converter in q, or -1 if there is no such converter.\n",
    "# For example, solution(3, [1, 4, 7]) would return the converters above\n",
    "# the converters at indexes 1, 4, and 7 in a perfect binary tree of height 3,\n",
    "# which is [3, 6, -1].\n",
    "#\n",
    "# The domain of the integer h is 1 <= h <= 30, where h = 1 represents a perfect binary tree containing only the root, h = 2 represents a perfect binary tree with the root and two leaf nodes, h = 3 represents a perfect binary tree with the root, two internal nodes and four leaf nodes (like the example above), and so forth.  The lists q and p contain at least one but no more than 10000 distinct integers, all of which will be between 1 and 2^h-1, inclusive.\n",
    "#\n",
    "# Languages\n",
    "# =========\n",
    "#\n",
    "# To provide a Java solution, edit Solution.java\n",
    "# To provide a Python solution, edit solution.py\n",
    "#\n",
    "# Test cases\n",
    "# ==========\n",
    "# Your code should pass the following test cases.\n",
    "# Note that it may also be run against hidden test cases not shown here.\n",
    "#\n",
    "# -- Java cases --\n",
    "# Input:\n",
    "# Solution.solution(5, {19, 14, 28})\n",
    "# Output:\n",
    "# 21,15,29\n",
    "#\n",
    "# Input:\n",
    "# Solution.solution(3, {7, 3, 5, 1})\n",
    "# Output:\n",
    "# -1,7,6,3\n",
    "#\n",
    "# -- Python cases --\n",
    "# Input:\n",
    "# solution.solution(3, [7, 3, 5, 1])\n",
    "# Output:\n",
    "# -1,7,6,3\n",
    "#\n",
    "# Input:\n",
    "# solution.solution(5, [19, 14, 28])\n",
    "# Output:\n",
    "# 21,15,29\n",
    "#\n",
    "# Use verify [file] to test your solution and see how it does. When you are finished editing your code, use submit [file] to submit your answer. If your solution passes the test cases, it will be removed from your home folder.\n"
   ]
  },
  {
   "cell_type": "code",
   "execution_count": 14,
   "outputs": [
    {
     "name": "stdout",
     "output_type": "stream",
     "text": [
      "[3, 6, -1]\n",
      "[-1, 7, 6, 3]\n",
      "[21, 15, 29]\n"
     ]
    }
   ],
   "source": [
    "class Node:\n",
    "    def __init__(self, parent):\n",
    "        self.parent = parent\n",
    "        self.data = None\n",
    "        self.left = None\n",
    "        self.right = None\n",
    "\n",
    "def create_perfect_binary_tree_postorder(parent,h,i):\n",
    "    node =Node(parent)\n",
    "    if h>1:\n",
    "        node.left, l = create_perfect_binary_tree_postorder(node,h-1,i)\n",
    "        node.right, r = create_perfect_binary_tree_postorder(node,h-1,l)\n",
    "        node.data=r\n",
    "        i=r\n",
    "    else:\n",
    "        node.data=i\n",
    "    return node,i+1\n",
    "\n",
    "def traverse_postorder_find_parent(node,m):\n",
    "    if node.data in m:\n",
    "        if node.parent:\n",
    "            m[node.data]=node.parent.data\n",
    "    if node.left:\n",
    "        traverse_postorder_find_parent(node.left,m)\n",
    "    if node.right:\n",
    "        traverse_postorder_find_parent(node.right,m)\n",
    "\n",
    "def solution(h,q):\n",
    "    m=dict((e,-1) for e in q)\n",
    "    root,last = create_perfect_binary_tree_postorder(None,h,1)\n",
    "    traverse_postorder_find_parent(root,m)\n",
    "    return [m[e] for e in q]\n",
    "\n",
    "p=solution(3, [1, 4, 7])\n",
    "print(p)\n",
    "assert p==[3, 6, -1],\"incorrect result!\"\n",
    "\n",
    "p=solution(3, [7, 3, 5, 1])\n",
    "print(p)\n",
    "assert p==[-1,7,6,3],\"incorrect result!\"\n",
    "\n",
    "p=solution(5, [19, 14, 28])\n",
    "print(p)\n",
    "assert p==[21,15,29],\"incorrect result!\""
   ],
   "metadata": {
    "collapsed": false,
    "pycharm": {
     "name": "#%%\n"
    }
   }
  }
 ],
 "metadata": {
  "kernelspec": {
   "display_name": "Python 3",
   "language": "python",
   "name": "python3"
  },
  "language_info": {
   "codemirror_mode": {
    "name": "ipython",
    "version": 2
   },
   "file_extension": ".py",
   "mimetype": "text/x-python",
   "name": "python",
   "nbconvert_exporter": "python",
   "pygments_lexer": "ipython2",
   "version": "2.7.6"
  }
 },
 "nbformat": 4,
 "nbformat_minor": 0
}