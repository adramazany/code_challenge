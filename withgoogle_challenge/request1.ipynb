{
 "cells": [
  {
   "cell_type": "code",
   "execution_count": null,
   "metadata": {
    "collapsed": true
   },
   "outputs": [],
   "source": [
    "\n"
   ]
  },
  {
   "cell_type": "code",
   "execution_count": null,
   "outputs": [],
   "source": [
    "# final code\n",
    "from collections import Counter\n",
    "def solution(data,n):\n",
    "    c = Counter(data)\n",
    "    r=filter(lambda x:c[x]<=n , data)\n",
    "    return list(r)\n",
    "\n",
    "r1=solution([1, 2, 3], 0)\n",
    "assert len(r1)==0,'n=0 must return empty'\n",
    "print(r1)\n",
    "\n",
    "r2=solution([1, 2, 2, 3, 3, 3, 4, 5, 5], 1)\n",
    "assert r2==[1,4],'incorrect solution in case 2'\n",
    "print(r2)\n",
    "\n"
   ],
   "metadata": {
    "collapsed": false,
    "pycharm": {
     "name": "#%%\n"
    }
   }
  }
 ],
 "metadata": {
  "kernelspec": {
   "display_name": "Python 3",
   "language": "python",
   "name": "python3"
  },
  "language_info": {
   "codemirror_mode": {
    "name": "ipython",
    "version": 2
   },
   "file_extension": ".py",
   "mimetype": "text/x-python",
   "name": "python",
   "nbconvert_exporter": "python",
   "pygments_lexer": "ipython2",
   "version": "2.7.6"
  }
 },
 "nbformat": 4,
 "nbformat_minor": 0
}